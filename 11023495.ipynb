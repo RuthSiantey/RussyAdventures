{
 "cells": [
  {
   "cell_type": "markdown",
   "id": "6167460d-ba98-4c28-a7a0-0dcf2a7725dd",
   "metadata": {},
   "source": [
    "Name: _Ruth Siantey_\n",
    "\n",
    "ID: **11023495**\n",
    "\n",
    "Class: _Biomedical Engineering_"
   ]
  },
  {
   "cell_type": "code",
   "execution_count": null,
   "id": "e5b0374f-fb1f-4a49-be0a-9b51f7e8882b",
   "metadata": {},
   "outputs": [],
   "source": []
  }
 ],
 "metadata": {
  "kernelspec": {
   "display_name": "Python 3 (ipykernel)",
   "language": "python",
   "name": "python3"
  },
  "language_info": {
   "codemirror_mode": {
    "name": "ipython",
    "version": 3
   },
   "file_extension": ".py",
   "mimetype": "text/x-python",
   "name": "python",
   "nbconvert_exporter": "python",
   "pygments_lexer": "ipython3",
   "version": "3.12.1"
  }
 },
 "nbformat": 4,
 "nbformat_minor": 5
}
